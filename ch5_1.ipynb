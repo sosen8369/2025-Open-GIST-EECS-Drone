{
 "cells": [
  {
   "cell_type": "code",
   "execution_count": null,
   "id": "152f0f95",
   "metadata": {},
   "outputs": [],
   "source": [
    "# 사전 설정\n",
    "# CodingRider 모듈 존재하는지 확인 후, 없을 경우 os모듈의 system을 이용해 설치\n",
    "try:\n",
    "    from CodingRider.drone import *\n",
    "    from CodingRider.protocol import *\n",
    "except ModuleNotFoundError:\n",
    "    import os\n",
    "    os.system(\"pip install CodingRider\")\n",
    "    from CodingRider.drone import *\n",
    "    from CodingRider.protocol import *\n",
    "except Exception as e:\n",
    "    print(e)\n",
    "    traceback.print_exc() # type: ignore , pylance 예외 처리"
   ]
  },
  {
   "cell_type": "code",
   "execution_count": null,
   "id": "b53dddf4",
   "metadata": {},
   "outputs": [],
   "source": [
    "# 포트 확인 후 알맞은 포트 이름을 입력해야 정상적으로 작동\n",
    "# 예제는 실험 환경이었던 COM4로 진행\n",
    "# 장치 관리자(Device manager)의 포트(Port) 항목에서 연결된 기기 확인 가능\n",
    "OPEN_PORT = 'COM4'"
   ]
  },
  {
   "cell_type": "code",
   "execution_count": null,
   "id": "7cd2ffc4",
   "metadata": {},
   "outputs": [],
   "source": [
    "# 에제 1, 컨트롤러로 '학교 종이 땡땡땡' 연주해보기\n",
    "# 사전 설정 import 필요\n",
    "from time import sleep\n",
    "\n",
    "drone = Drone()   \n",
    "drone.open(OPEN_PORT) \n",
    "drone.sendBuzzerScale(BuzzerScale.G4, 500)\n",
    "sleep(0.5) \n",
    "drone.sendBuzzerScale(BuzzerScale.G4, 500)\n",
    "sleep(0.5) \n",
    "drone.sendBuzzerScale(BuzzerScale.A4, 500)\n",
    "sleep(0.5) \n",
    "drone.sendBuzzerScale(BuzzerScale.A4, 500)\n",
    "sleep(0.5)  \n",
    "drone.sendBuzzerScale(BuzzerScale.G4, 500)\n",
    "sleep(0.5) \n",
    "drone.sendBuzzerScale(BuzzerScale.G4, 500)\n",
    "sleep(0.5) \n",
    "drone.sendBuzzerScale(BuzzerScale.E4, 1000)\n",
    "sleep(1) "
   ]
  },
  {
   "cell_type": "markdown",
   "id": "5bacdb23",
   "metadata": {},
   "source": [
    "해당 코드를 실행할 경우 daemon=False인 스래드가 생성되며, 생성된 스레드는 유선을 통해 정보 통신으로 추정\n",
    "\n",
    "메인 프로세스가 종료 되더라도 해당 스레드는 종료되지 않음\n",
    "\n",
    "idle 환경을 통한 실행시 하나의 스레드가 컨트롤러와 통신중일 경우 다른 프로세스는 해당 포트와 통신 불가"
   ]
  }
 ],
 "metadata": {
  "language_info": {
   "name": "python"
  }
 },
 "nbformat": 4,
 "nbformat_minor": 5
}
