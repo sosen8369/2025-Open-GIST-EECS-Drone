{
 "cells": [
  {
   "cell_type": "code",
   "execution_count": null,
   "id": "152f0f95",
   "metadata": {},
   "outputs": [],
   "source": [
    "# 사전 설정\n",
    "# CodingRider 모듈 존재하는지 확인 후, 없을 경우 os모듈의 system을 이용해 설치\n",
    "try:\n",
    "    from CodingRider.drone import *\n",
    "    from CodingRider.protocol import *\n",
    "except ModuleNotFoundError:\n",
    "    import os\n",
    "    os.system(\"pip install CodingRider\")\n",
    "    from CodingRider.drone import *\n",
    "    from CodingRider.protocol import *\n",
    "except Exception as e:\n",
    "    print(e)\n",
    "    traceback.print_exc() # type: ignore , pylance 예외 처리"
   ]
  },
  {
   "cell_type": "code",
   "execution_count": null,
   "id": "b53dddf4",
   "metadata": {},
   "outputs": [],
   "source": [
    "# 포트 확인 후 알맞은 포트 이름을 입력해야 정상적으로 작동\n",
    "# 예제는 실험 환경이었던 COM4로 진행\n",
    "# 장치 관리자(Device manager)의 포트(Port) 항목에서 연결된 기기 확인 가능\n",
    "OPEN_PORT = 'COM4'"
   ]
  },
  {
   "cell_type": "code",
   "execution_count": null,
   "id": "7cd2ffc4",
   "metadata": {},
   "outputs": [],
   "source": [
    "# 에제 1, 조종기 버튼 확인하기\n",
    "from time import sleep\n",
    "\n",
    "def eventButton(button):\n",
    "    print(button.button)\n",
    "\n",
    "drone = Drone()\n",
    "drone.open(OPEN_PORT)\n",
    "drone.setEventHandler(DataType.Button, eventButton)\n",
    "drone.sendPing(DeviceType.Controller)\n",
    "\n",
    "# 프로그램이 종료되지 않게 while 문을 사용합니다. (원본 주석)\n",
    "while True:          \n",
    "    sleep(0.01) \n",
    "# idle을 이용하여 실행(shell 환경)할 경우 해당 while문은 없어도 무방\n",
    "# 누른 키에 해당하는 int값(조이스틱, 전원버튼 제외)이 출력됨\n",
    "# 키 값은 2 ** n 꼴이며, 누르고 있을 경우 지속적으로 출력됨"
   ]
  },
  {
   "cell_type": "code",
   "execution_count": null,
   "id": "29757527",
   "metadata": {},
   "outputs": [],
   "source": [
    "# 예제 2, 조종기 조이스틱 값 지속적으로 출력하기\n",
    "from time import sleep\n",
    "\n",
    "def eventJoystick(joystick):\n",
    "    print(joystick.left.x, joystick.left.y, joystick.right.x, joystick.right.y)\n",
    "\n",
    "drone = Drone()\n",
    "drone.open(OPEN_PORT)\n",
    "drone.setEventHandler(DataType.Joystick, eventJoystick)\n",
    "drone.sendPing(DeviceType.Controller)\n",
    "\n",
    "while True: \n",
    "    sleep(0.01)"
   ]
  },
  {
   "cell_type": "code",
   "execution_count": null,
   "id": "598ac5b7",
   "metadata": {},
   "outputs": [],
   "source": [
    "# 예제 3, 우측 조이스틱으로 turtle 모듈 이용해서 그림 그리기\n",
    "import turtle as t\n",
    "from time import sleep\n",
    "\n",
    "def eventJoystick(joystick):\n",
    "    # goto에 좌표를 입력하면 화살표가 움직입니다.\n",
    "    t.goto(joystick.right.x ,joystick.right.y)\n",
    "\n",
    "drone = Drone()\n",
    "drone.open(OPEN_PORT)\n",
    "drone.setEventHandler(DataType.Joystick, eventJoystick)\n",
    "drone.sendPing(DeviceType.Controller)\n",
    "\n",
    "while True: \n",
    "    sleep(0.01) "
   ]
  }
 ],
 "metadata": {
  "language_info": {
   "name": "python"
  }
 },
 "nbformat": 4,
 "nbformat_minor": 5
}
